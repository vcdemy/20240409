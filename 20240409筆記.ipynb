{
 "cells": [
  {
   "cell_type": "markdown",
   "id": "aed7654a-a265-421b-a162-fcd2c0d4a14a",
   "metadata": {},
   "source": [
    "# 20240409筆記"
   ]
  },
  {
   "cell_type": "markdown",
   "id": "e957e369-32aa-4f37-9be6-d10010a0eed9",
   "metadata": {},
   "source": [
    "## 練習 01\n",
    "\n",
    "延伸 20240326 的練習02，請寫一個迴圈，問使用者十題 99 乘法的數學題，並統計使用者答對的題數。"
   ]
  },
  {
   "cell_type": "code",
   "execution_count": 2,
   "id": "cc3b21be-22a9-405e-a3db-cac6e975c465",
   "metadata": {},
   "outputs": [],
   "source": [
    "import random"
   ]
  },
  {
   "cell_type": "code",
   "execution_count": 3,
   "id": "338f4fe6-e0f7-4975-be4e-84dfa554b9e2",
   "metadata": {},
   "outputs": [
    {
     "name": "stdout",
     "output_type": "stream",
     "text": [
      "請問 7 x 6 = ？ 42\n"
     ]
    },
    {
     "name": "stdout",
     "output_type": "stream",
     "text": [
      "沒錯，答案是 42!\n"
     ]
    }
   ],
   "source": [
    "m = random.randint(2, 9)\n",
    "n = random.randint(2, 9)\n",
    "x = input(f\"請問 {m} x {n} = ？\")\n",
    "if int(x)==m*n:\n",
    "    print(f\"沒錯，答案是 {x}!\")\n",
    "else:\n",
    "    print(f\"錯了，答案是 {m*n}!\")"
   ]
  },
  {
   "cell_type": "code",
   "execution_count": 6,
   "id": "7f4d415c-4129-48c4-9188-25210a402a14",
   "metadata": {},
   "outputs": [
    {
     "name": "stdout",
     "output_type": "stream",
     "text": [
      "請問 7 x 8 = ？ 56\n"
     ]
    },
    {
     "name": "stdout",
     "output_type": "stream",
     "text": [
      "沒錯，答案是 56!\n"
     ]
    },
    {
     "name": "stdout",
     "output_type": "stream",
     "text": [
      "請問 5 x 9 = ？ 45\n"
     ]
    },
    {
     "name": "stdout",
     "output_type": "stream",
     "text": [
      "沒錯，答案是 45!\n"
     ]
    },
    {
     "name": "stdout",
     "output_type": "stream",
     "text": [
      "請問 7 x 9 = ？ 63\n"
     ]
    },
    {
     "name": "stdout",
     "output_type": "stream",
     "text": [
      "沒錯，答案是 63!\n"
     ]
    },
    {
     "name": "stdout",
     "output_type": "stream",
     "text": [
      "請問 6 x 3 = ？ 16\n"
     ]
    },
    {
     "name": "stdout",
     "output_type": "stream",
     "text": [
      "錯了，答案是 18!\n"
     ]
    },
    {
     "name": "stdout",
     "output_type": "stream",
     "text": [
      "請問 8 x 8 = ？ 64\n"
     ]
    },
    {
     "name": "stdout",
     "output_type": "stream",
     "text": [
      "沒錯，答案是 64!\n",
      "總共答對4題！\n"
     ]
    }
   ],
   "source": [
    "c = 0\n",
    "for i in range(5):\n",
    "    m = random.randint(2, 9)\n",
    "    n = random.randint(2, 9)\n",
    "    x = input(f\"請問 {m} x {n} = ？\")\n",
    "    if int(x)==m*n:\n",
    "        c += 1\n",
    "        print(f\"沒錯，答案是 {x}!\")\n",
    "    else:\n",
    "        print(f\"錯了，答案是 {m*n}!\")\n",
    "print(f\"總共答對{c}題！\")"
   ]
  },
  {
   "cell_type": "markdown",
   "id": "d8c7d0e2-56d5-4772-a929-19658b60e140",
   "metadata": {},
   "source": [
    "## 練習 02\n",
    "\n",
    "延伸練習 01，請記錄下哪些題目答對，那些題目答錯。"
   ]
  },
  {
   "cell_type": "code",
   "execution_count": 11,
   "id": "3c90efdd-2b5d-4eee-aa3a-b28459b1a4bd",
   "metadata": {},
   "outputs": [
    {
     "name": "stdout",
     "output_type": "stream",
     "text": [
      "請問 7 x 8 = ？ 56\n",
      "請問 8 x 7 = ？ 56\n",
      "請問 7 x 7 = ？ 49\n",
      "請問 7 x 8 = ？ 54\n",
      "請問 6 x 2 = ？ 12\n"
     ]
    },
    {
     "name": "stdout",
     "output_type": "stream",
     "text": [
      "總共答對4題！\n",
      "答題狀況：[(7, 8, True), (8, 7, True), (7, 7, True), (7, 8, False), (6, 2, True)]\n"
     ]
    }
   ],
   "source": [
    "c = 0\n",
    "questions = []\n",
    "for i in range(5):\n",
    "    m = random.randint(2, 9)\n",
    "    n = random.randint(2, 9)\n",
    "    x = input(f\"請問 {m} x {n} = ？\")\n",
    "    if int(x)==m*n:\n",
    "        c += 1\n",
    "        questions.append((m, n, True))\n",
    "    else:\n",
    "        questions.append((m, n, False))\n",
    "print(f\"總共答對{c}題！\")\n",
    "print(f\"答題狀況：{questions}\")"
   ]
  },
  {
   "cell_type": "code",
   "execution_count": 7,
   "id": "070282ec-8ff7-49dc-bf28-0eaec95c8594",
   "metadata": {},
   "outputs": [],
   "source": [
    "questions = []"
   ]
  },
  {
   "cell_type": "code",
   "execution_count": 9,
   "id": "6c5b1b03-fe9a-4c62-bb19-641c373c60cd",
   "metadata": {},
   "outputs": [],
   "source": [
    "questions.append((3, 3, True))"
   ]
  },
  {
   "cell_type": "code",
   "execution_count": 10,
   "id": "8505f224-ebc4-4561-a4f5-0daaaa1a28a6",
   "metadata": {},
   "outputs": [
    {
     "data": {
      "text/plain": [
       "[(3, 3, True)]"
      ]
     },
     "execution_count": 10,
     "metadata": {},
     "output_type": "execute_result"
    }
   ],
   "source": [
    "questions"
   ]
  },
  {
   "cell_type": "markdown",
   "id": "fcfaa6b4-8f7a-48dd-8eb4-b1eeb3bc5054",
   "metadata": {},
   "source": [
    "## Comprehensions"
   ]
  },
  {
   "cell_type": "code",
   "execution_count": 12,
   "id": "53000563-296d-4cb9-a6c2-9042921c14cb",
   "metadata": {},
   "outputs": [],
   "source": [
    "s = '1634'"
   ]
  },
  {
   "cell_type": "code",
   "execution_count": 21,
   "id": "aafe5a40-68fa-4aaf-b663-f9de4e70d1df",
   "metadata": {},
   "outputs": [],
   "source": [
    "p = len(s)"
   ]
  },
  {
   "cell_type": "code",
   "execution_count": 15,
   "id": "a00a6429-e1a7-446c-9af2-8420960b1668",
   "metadata": {
    "collapsed": true,
    "jupyter": {
     "outputs_hidden": true
    },
    "scrolled": true
   },
   "outputs": [
    {
     "name": "stdout",
     "output_type": "stream",
     "text": [
      "1 ==> <class 'str'>\n",
      "6 ==> <class 'str'>\n",
      "3 ==> <class 'str'>\n",
      "4 ==> <class 'str'>\n"
     ]
    }
   ],
   "source": [
    "for i in s:\n",
    "    print(i, \"==>\", type(i))"
   ]
  },
  {
   "cell_type": "code",
   "execution_count": 17,
   "id": "cec77c36-5162-4d30-91fb-0c9322c563f6",
   "metadata": {},
   "outputs": [
    {
     "data": {
      "text/plain": [
       "['1', '6', '3', '4']"
      ]
     },
     "execution_count": 17,
     "metadata": {},
     "output_type": "execute_result"
    }
   ],
   "source": [
    "list(s)"
   ]
  },
  {
   "cell_type": "code",
   "execution_count": 18,
   "id": "86e98131-7322-45c6-b4e3-5dfb8285fe3d",
   "metadata": {},
   "outputs": [
    {
     "data": {
      "text/plain": [
       "[1, 6, 3, 4]"
      ]
     },
     "execution_count": 18,
     "metadata": {},
     "output_type": "execute_result"
    }
   ],
   "source": [
    "[int(i) for i in s]"
   ]
  },
  {
   "cell_type": "code",
   "execution_count": 19,
   "id": "d253325d-9846-42dd-b03e-0ddd38c2d24e",
   "metadata": {},
   "outputs": [],
   "source": [
    "x = [int(i) for i in s]"
   ]
  },
  {
   "cell_type": "code",
   "execution_count": 20,
   "id": "7f73bfec-c03a-4232-b587-eb04f20acb70",
   "metadata": {},
   "outputs": [
    {
     "data": {
      "text/plain": [
       "[1, 6, 3, 4]"
      ]
     },
     "execution_count": 20,
     "metadata": {},
     "output_type": "execute_result"
    }
   ],
   "source": [
    "x"
   ]
  },
  {
   "cell_type": "code",
   "execution_count": 23,
   "id": "d42e54cd-80d6-4fb0-8e93-d93f65acc57a",
   "metadata": {},
   "outputs": [],
   "source": [
    "y = [i**p for i in x]"
   ]
  },
  {
   "cell_type": "code",
   "execution_count": 24,
   "id": "d9768553-ed85-4938-86fa-da01184017ee",
   "metadata": {},
   "outputs": [
    {
     "data": {
      "text/plain": [
       "1634"
      ]
     },
     "execution_count": 24,
     "metadata": {},
     "output_type": "execute_result"
    }
   ],
   "source": [
    "sum(y)"
   ]
  },
  {
   "cell_type": "code",
   "execution_count": 25,
   "id": "9cbf0cc5-ea9a-4502-a6e6-210abebe7bc8",
   "metadata": {},
   "outputs": [],
   "source": [
    "s = 'aabccdddddeeeeeffff'"
   ]
  },
  {
   "cell_type": "code",
   "execution_count": 26,
   "id": "df891ff9-eddf-4571-8bce-a08c20c0ff82",
   "metadata": {},
   "outputs": [
    {
     "data": {
      "text/plain": [
       "2"
      ]
     },
     "execution_count": 26,
     "metadata": {},
     "output_type": "execute_result"
    }
   ],
   "source": [
    "s.count('a')"
   ]
  },
  {
   "cell_type": "code",
   "execution_count": 27,
   "id": "581ac019-d5ff-4494-8c3e-3628900200ff",
   "metadata": {},
   "outputs": [
    {
     "data": {
      "text/plain": [
       "{'a': 2, 'b': 1, 'c': 2, 'd': 5, 'e': 5, 'f': 4}"
      ]
     },
     "execution_count": 27,
     "metadata": {},
     "output_type": "execute_result"
    }
   ],
   "source": [
    "{i:s.count(i) for i in s}"
   ]
  },
  {
   "cell_type": "code",
   "execution_count": 28,
   "id": "4f3de1c7-eef2-4d40-8c95-3f94f0f35b71",
   "metadata": {},
   "outputs": [
    {
     "data": {
      "text/plain": [
       "[1, 6, 3, 4]"
      ]
     },
     "execution_count": 28,
     "metadata": {},
     "output_type": "execute_result"
    }
   ],
   "source": [
    "x"
   ]
  },
  {
   "cell_type": "code",
   "execution_count": 33,
   "id": "ee794d76-d9b9-4746-9f26-3f9e87bed4cb",
   "metadata": {},
   "outputs": [],
   "source": [
    "z = (i for i in x)"
   ]
  },
  {
   "cell_type": "code",
   "execution_count": 34,
   "id": "806cd561-b994-4034-9f65-ad760e3c4289",
   "metadata": {},
   "outputs": [
    {
     "data": {
      "text/plain": [
       "generator"
      ]
     },
     "execution_count": 34,
     "metadata": {},
     "output_type": "execute_result"
    }
   ],
   "source": [
    "type(z)"
   ]
  },
  {
   "cell_type": "code",
   "execution_count": 35,
   "id": "4274b4f3-2462-405a-9efb-abc631431347",
   "metadata": {},
   "outputs": [
    {
     "name": "stdout",
     "output_type": "stream",
     "text": [
      "1\n",
      "6\n",
      "3\n",
      "4\n"
     ]
    }
   ],
   "source": [
    "for i in z:\n",
    "    print(i)"
   ]
  },
  {
   "cell_type": "code",
   "execution_count": 36,
   "id": "d5a9705e-7ae8-44d4-be7f-d81a27c6d55a",
   "metadata": {},
   "outputs": [],
   "source": [
    "for i in z:\n",
    "    print(i)"
   ]
  },
  {
   "cell_type": "code",
   "execution_count": 37,
   "id": "a03dfac4-a097-4998-a2e8-2ef43efb46ca",
   "metadata": {},
   "outputs": [],
   "source": [
    "z = (i for i in x)"
   ]
  },
  {
   "cell_type": "code",
   "execution_count": 39,
   "id": "1c92b85e-6c8a-4703-b155-4cbaa7fe2730",
   "metadata": {},
   "outputs": [
    {
     "data": {
      "text/plain": [
       "6"
      ]
     },
     "execution_count": 39,
     "metadata": {},
     "output_type": "execute_result"
    }
   ],
   "source": [
    "next(z)"
   ]
  },
  {
   "cell_type": "code",
   "execution_count": 40,
   "id": "9872a7d1-b287-4845-bb51-3ed53de37433",
   "metadata": {},
   "outputs": [
    {
     "data": {
      "text/plain": [
       "[3, 4]"
      ]
     },
     "execution_count": 40,
     "metadata": {},
     "output_type": "execute_result"
    }
   ],
   "source": [
    "list(z)"
   ]
  },
  {
   "cell_type": "markdown",
   "id": "f6542d1c-e738-4ec2-a914-cf8b3fa53e55",
   "metadata": {},
   "source": [
    "## 物件導向程式設計(OOP)簡介\n",
    "\n",
    "* Object Oriented Programming"
   ]
  },
  {
   "cell_type": "markdown",
   "id": "dbc94750-e7e8-463e-ac29-3bcdb3ff065c",
   "metadata": {},
   "source": [
    "* class v.s., object\n",
    "* member variables (data, attributes) v.s. member functions (methods)"
   ]
  },
  {
   "cell_type": "code",
   "execution_count": 41,
   "id": "30215f0e-5fd4-4397-a9a1-b598208aeda5",
   "metadata": {},
   "outputs": [
    {
     "data": {
      "text/plain": [
       "list"
      ]
     },
     "execution_count": 41,
     "metadata": {},
     "output_type": "execute_result"
    }
   ],
   "source": [
    "type(x)"
   ]
  },
  {
   "cell_type": "code",
   "execution_count": 42,
   "id": "6eec4911-b6e2-437f-bf0f-b19b79842cfb",
   "metadata": {},
   "outputs": [
    {
     "data": {
      "text/plain": [
       "[1, 6, 3, 4]"
      ]
     },
     "execution_count": 42,
     "metadata": {},
     "output_type": "execute_result"
    }
   ],
   "source": [
    "x"
   ]
  },
  {
   "cell_type": "code",
   "execution_count": 43,
   "id": "883abbd5-f9ab-4aa2-98e5-e7f2aa98957f",
   "metadata": {},
   "outputs": [
    {
     "data": {
      "text/plain": [
       "'aabccdddddeeeeeffff'"
      ]
     },
     "execution_count": 43,
     "metadata": {},
     "output_type": "execute_result"
    }
   ],
   "source": [
    "s"
   ]
  },
  {
   "cell_type": "code",
   "execution_count": 44,
   "id": "686e9540-08a3-40df-9ebb-9b0246bb9416",
   "metadata": {},
   "outputs": [
    {
     "data": {
      "text/plain": [
       "str"
      ]
     },
     "execution_count": 44,
     "metadata": {},
     "output_type": "execute_result"
    }
   ],
   "source": [
    "type(s)"
   ]
  },
  {
   "cell_type": "code",
   "execution_count": 45,
   "id": "7033ae58-86be-42d5-bd5c-293139997112",
   "metadata": {},
   "outputs": [
    {
     "data": {
      "text/plain": [
       "'AABCCDDDDDEEEEEFFFF'"
      ]
     },
     "execution_count": 45,
     "metadata": {},
     "output_type": "execute_result"
    }
   ],
   "source": [
    "s.upper()"
   ]
  },
  {
   "cell_type": "code",
   "execution_count": 46,
   "id": "820fbdee-51da-4b35-8a52-da3887d297db",
   "metadata": {},
   "outputs": [],
   "source": [
    "class Sprite:\n",
    "    pass"
   ]
  },
  {
   "cell_type": "code",
   "execution_count": 47,
   "id": "0c8b50d7-a972-43c3-aa17-66027c8602ac",
   "metadata": {},
   "outputs": [],
   "source": [
    "k = Sprite()"
   ]
  },
  {
   "cell_type": "code",
   "execution_count": 48,
   "id": "ae30d025-c585-4c24-88f3-99fa3d5926f8",
   "metadata": {},
   "outputs": [
    {
     "data": {
      "text/plain": [
       "__main__.Sprite"
      ]
     },
     "execution_count": 48,
     "metadata": {},
     "output_type": "execute_result"
    }
   ],
   "source": [
    "type(k)"
   ]
  },
  {
   "cell_type": "markdown",
   "id": "307d948a-2c0e-42a2-983f-1530ec56201a",
   "metadata": {},
   "source": [
    "## 複習資料分析"
   ]
  },
  {
   "cell_type": "markdown",
   "id": "c4d88446-ef34-4411-b640-7ede920924df",
   "metadata": {},
   "source": [
    "* NumPy\n",
    "* MatPlotLib\n",
    "* Pandas\n",
    "\n",
    "載入慣用法：\n",
    "```python\n",
    "import numpy as np\n",
    "import matplotlib.pyplot as plt\n",
    "import pandas as pd\n",
    "```"
   ]
  },
  {
   "cell_type": "code",
   "execution_count": 49,
   "id": "2164e8bc-848b-42b9-ae49-2264443665e9",
   "metadata": {},
   "outputs": [],
   "source": [
    "import numpy as np"
   ]
  },
  {
   "cell_type": "code",
   "execution_count": 50,
   "id": "e444b136-e76d-46e3-b1f9-af6813a9797f",
   "metadata": {},
   "outputs": [],
   "source": [
    "x = [1, 2, 3]\n",
    "y = [4, 5, 6]"
   ]
  },
  {
   "cell_type": "code",
   "execution_count": 52,
   "id": "c790c3c0-b38a-4ef7-aea9-52c9b64404ba",
   "metadata": {},
   "outputs": [
    {
     "data": {
      "text/plain": [
       "[(1, 4), (2, 5), (3, 6)]"
      ]
     },
     "execution_count": 52,
     "metadata": {},
     "output_type": "execute_result"
    }
   ],
   "source": [
    "list(zip(x, y))"
   ]
  },
  {
   "cell_type": "code",
   "execution_count": 53,
   "id": "4c3b1ab5-b9d4-4dc6-a2c9-4ebebba5aabc",
   "metadata": {},
   "outputs": [
    {
     "name": "stdout",
     "output_type": "stream",
     "text": [
      "1 4\n",
      "2 5\n",
      "3 6\n"
     ]
    }
   ],
   "source": [
    "for i, j in zip(x, y):\n",
    "    print(i, j)"
   ]
  },
  {
   "cell_type": "code",
   "execution_count": 54,
   "id": "eb81bc31-2c46-4dd1-a737-a6c3af84b850",
   "metadata": {},
   "outputs": [],
   "source": [
    "z = []\n",
    "for i, j in zip(x, y):\n",
    "    z.append(i+j)"
   ]
  },
  {
   "cell_type": "code",
   "execution_count": 55,
   "id": "9db28e6f-485b-4b5d-8732-e6513c7de682",
   "metadata": {},
   "outputs": [
    {
     "data": {
      "text/plain": [
       "[5, 7, 9]"
      ]
     },
     "execution_count": 55,
     "metadata": {},
     "output_type": "execute_result"
    }
   ],
   "source": [
    "z"
   ]
  },
  {
   "cell_type": "code",
   "execution_count": 56,
   "id": "9e0eb397-2468-4daa-b4f7-367b5d2cbd5a",
   "metadata": {},
   "outputs": [
    {
     "data": {
      "text/plain": [
       "[5, 7, 9]"
      ]
     },
     "execution_count": 56,
     "metadata": {},
     "output_type": "execute_result"
    }
   ],
   "source": [
    "[i+j for i, j in zip(x, y)]"
   ]
  },
  {
   "cell_type": "code",
   "execution_count": 57,
   "id": "321fceca-c387-447e-9a89-6e7d7b59f9fe",
   "metadata": {},
   "outputs": [],
   "source": [
    "A = np.arange(25)"
   ]
  },
  {
   "cell_type": "code",
   "execution_count": 58,
   "id": "259e8b5a-953b-4456-a6d0-bd02325cf981",
   "metadata": {},
   "outputs": [
    {
     "data": {
      "text/plain": [
       "array([ 0,  1,  2,  3,  4,  5,  6,  7,  8,  9, 10, 11, 12, 13, 14, 15, 16,\n",
       "       17, 18, 19, 20, 21, 22, 23, 24])"
      ]
     },
     "execution_count": 58,
     "metadata": {},
     "output_type": "execute_result"
    }
   ],
   "source": [
    "A"
   ]
  },
  {
   "cell_type": "code",
   "execution_count": 60,
   "id": "9351b2ac-8137-4416-aca2-08263336f874",
   "metadata": {},
   "outputs": [],
   "source": [
    "B = A.reshape(5, 5)"
   ]
  },
  {
   "cell_type": "code",
   "execution_count": 61,
   "id": "3b965467-da1d-4370-aba5-209217b4f93d",
   "metadata": {},
   "outputs": [
    {
     "data": {
      "text/plain": [
       "array([[ 0,  1,  2,  3,  4],\n",
       "       [ 5,  6,  7,  8,  9],\n",
       "       [10, 11, 12, 13, 14],\n",
       "       [15, 16, 17, 18, 19],\n",
       "       [20, 21, 22, 23, 24]])"
      ]
     },
     "execution_count": 61,
     "metadata": {},
     "output_type": "execute_result"
    }
   ],
   "source": [
    "B"
   ]
  },
  {
   "cell_type": "code",
   "execution_count": 63,
   "id": "660a050b-475e-44c0-a57b-f392b0826183",
   "metadata": {},
   "outputs": [
    {
     "data": {
      "text/plain": [
       "12"
      ]
     },
     "execution_count": 63,
     "metadata": {},
     "output_type": "execute_result"
    }
   ],
   "source": [
    "B[2, 2]"
   ]
  },
  {
   "cell_type": "code",
   "execution_count": 64,
   "id": "42eebf2f-59a9-4bad-afb0-ee01c116ee8a",
   "metadata": {},
   "outputs": [
    {
     "data": {
      "text/plain": [
       "array([10, 11, 12, 13, 14])"
      ]
     },
     "execution_count": 64,
     "metadata": {},
     "output_type": "execute_result"
    }
   ],
   "source": [
    "B[2]"
   ]
  },
  {
   "cell_type": "code",
   "execution_count": 66,
   "id": "f5b6a570-4652-456b-bfcb-ec4da2829079",
   "metadata": {},
   "outputs": [
    {
     "data": {
      "text/plain": [
       "array([10, 11, 12, 13, 14])"
      ]
     },
     "execution_count": 66,
     "metadata": {},
     "output_type": "execute_result"
    }
   ],
   "source": [
    "B[2, :]"
   ]
  },
  {
   "cell_type": "code",
   "execution_count": 65,
   "id": "b5065431-2de4-4bed-adc5-e3542fe48c71",
   "metadata": {},
   "outputs": [
    {
     "data": {
      "text/plain": [
       "array([ 2,  7, 12, 17, 22])"
      ]
     },
     "execution_count": 65,
     "metadata": {},
     "output_type": "execute_result"
    }
   ],
   "source": [
    "B[:, 2]"
   ]
  },
  {
   "cell_type": "code",
   "execution_count": 67,
   "id": "7a325cbe-8a07-4ce1-b89e-accf74fba260",
   "metadata": {},
   "outputs": [
    {
     "data": {
      "text/plain": [
       "array([ 0,  6, 12, 18, 24])"
      ]
     },
     "execution_count": 67,
     "metadata": {},
     "output_type": "execute_result"
    }
   ],
   "source": [
    "B[[0, 1, 2, 3, 4], [0, 1, 2, 3, 4]]"
   ]
  },
  {
   "cell_type": "code",
   "execution_count": 69,
   "id": "5a92a18d-46ff-4777-b2e6-34d15c4ecfdc",
   "metadata": {},
   "outputs": [
    {
     "data": {
      "text/plain": [
       "array([[ 6,  7,  8],\n",
       "       [11, 12, 13],\n",
       "       [16, 17, 18]])"
      ]
     },
     "execution_count": 69,
     "metadata": {},
     "output_type": "execute_result"
    }
   ],
   "source": [
    "B[1:4, 1:4]"
   ]
  },
  {
   "cell_type": "code",
   "execution_count": 70,
   "id": "87933f1e-c3b6-4e2f-83a1-a2027e7414c4",
   "metadata": {},
   "outputs": [
    {
     "data": {
      "text/plain": [
       "array([[ 0,  1,  2,  3,  4],\n",
       "       [ 5,  6,  7,  8,  9],\n",
       "       [10, 11, 12, 13, 14],\n",
       "       [15, 16, 17, 18, 19],\n",
       "       [20, 21, 22, 23, 24]])"
      ]
     },
     "execution_count": 70,
     "metadata": {},
     "output_type": "execute_result"
    }
   ],
   "source": [
    "B"
   ]
  },
  {
   "cell_type": "code",
   "execution_count": 71,
   "id": "a09249be-7096-47d2-b9b6-c6f2db564332",
   "metadata": {},
   "outputs": [
    {
     "data": {
      "text/plain": [
       "array([[False, False, False, False, False],\n",
       "       [False, False, False, False, False],\n",
       "       [False, False, False,  True,  True],\n",
       "       [ True,  True,  True,  True,  True],\n",
       "       [ True,  True,  True,  True,  True]])"
      ]
     },
     "execution_count": 71,
     "metadata": {},
     "output_type": "execute_result"
    }
   ],
   "source": [
    "B > 12"
   ]
  },
  {
   "cell_type": "code",
   "execution_count": 73,
   "id": "bf17c2b9-96d9-4117-adaa-b99fd82ddd0b",
   "metadata": {},
   "outputs": [
    {
     "data": {
      "text/plain": [
       "array([13, 14, 15, 16, 17, 18, 19, 20, 21, 22, 23, 24])"
      ]
     },
     "execution_count": 73,
     "metadata": {},
     "output_type": "execute_result"
    }
   ],
   "source": [
    "B[B>12]"
   ]
  },
  {
   "cell_type": "code",
   "execution_count": 75,
   "id": "b354ee71-daa3-43f5-805a-7fd502164dc8",
   "metadata": {},
   "outputs": [
    {
     "data": {
      "text/plain": [
       "array([[ 0,  0,  0,  0,  0],\n",
       "       [ 0,  0,  0,  0,  0],\n",
       "       [ 0,  0,  0, 13, 14],\n",
       "       [15, 16, 17, 18, 19],\n",
       "       [20, 21, 22, 23, 24]])"
      ]
     },
     "execution_count": 75,
     "metadata": {},
     "output_type": "execute_result"
    }
   ],
   "source": [
    "np.where(B>12, B, 0)"
   ]
  },
  {
   "cell_type": "code",
   "execution_count": null,
   "id": "bc1f01db-06a6-4336-be88-520aeeeeb6e0",
   "metadata": {},
   "outputs": [],
   "source": []
  }
 ],
 "metadata": {
  "kernelspec": {
   "display_name": "Python 3 (ipykernel)",
   "language": "python",
   "name": "python3"
  },
  "language_info": {
   "codemirror_mode": {
    "name": "ipython",
    "version": 3
   },
   "file_extension": ".py",
   "mimetype": "text/x-python",
   "name": "python",
   "nbconvert_exporter": "python",
   "pygments_lexer": "ipython3",
   "version": "3.12.2"
  }
 },
 "nbformat": 4,
 "nbformat_minor": 5
}
